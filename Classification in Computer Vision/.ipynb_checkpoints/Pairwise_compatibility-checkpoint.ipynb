{
 "cells": [
  {
   "cell_type": "code",
   "execution_count": null,
   "metadata": {
    "colab": {},
    "colab_type": "code",
    "id": "_A9aUIn4SGid"
   },
   "outputs": [],
   "source": [
    "#!pip install gdown\n",
    "#!gdown https://drive.google.com/uc?id=1ZCDRRh4wrYDq0O3FOptSlBpQFoe0zHTw"
   ]
  },
  {
   "cell_type": "code",
   "execution_count": null,
   "metadata": {
    "colab": {},
    "colab_type": "code",
    "id": "PCUjaz3XSGii"
   },
   "outputs": [],
   "source": [
    "#!unzip /content/polyvore_outfits_hw.zip"
   ]
  },
  {
   "cell_type": "code",
   "execution_count": null,
   "metadata": {
    "colab": {},
    "colab_type": "code",
    "id": "cPUN-B4NSGin"
   },
   "outputs": [],
   "source": [
    "#!pip install torchvision"
   ]
  },
  {
   "cell_type": "code",
   "execution_count": 11,
   "metadata": {
    "colab": {
     "base_uri": "https://localhost:8080/",
     "height": 52
    },
    "colab_type": "code",
    "id": "tqAK4P1gSGiq",
    "outputId": "15c0d994-97e6-4c12-aded-1e504df2d20a"
   },
   "outputs": [
    {
     "name": "stderr",
     "output_type": "stream",
     "text": [
      "1373702it [00:00, 1450454.68it/s]\n",
      "129547it [00:00, 1237422.17it/s]\n"
     ]
    }
   ],
   "source": [
    "from tensorflow.keras import layers, optimizers, regularizers\n",
    "from tensorflow.keras.layers import GlobalAveragePooling2D, Dense, Conv2D, MaxPooling2D, Flatten\n",
    "from tensorflow.keras.models import Model,Sequential\n",
    "from tensorflow.keras.layers import BatchNormalization,Activation, Input, Lambda\n",
    "from tensorflow.keras.regularizers import Regularizer\n",
    "from keras import backend as K\n",
    "\n",
    "from data import polyvore_dataset, DataGenerator\n",
    "from utils import Config\n",
    "\n",
    "import tensorflow as tf\n",
    "from tensorflow.keras.utils import plot_model\n",
    "import numpy as np\n",
    "import matplotlib.pyplot as plt\n",
    "\n",
    "\n",
    "if __name__=='__main__':\n",
    "    dataset = polyvore_dataset()\n",
    "    transforms = dataset.get_data_transforms()\n",
    "    X_train, X_valid, X_test, y_train, y_valid, y_test, n_classes = \\\n",
    "        dataset.X_train, dataset.X_valid, dataset.X_test, dataset.y_train, \\\n",
    "            dataset.y_valid, dataset.y_test, dataset.classes\n",
    "    \n",
    "    if Config['debug']:\n",
    "        k = Config['debug_size']\n",
    "        train_set = (X_train[:k], y_train[:k], transforms['train'])\n",
    "        valid_set = (X_valid[:k], y_valid[:k], transforms['test'])\n",
    "        test_set = (X_test[:k], y_test[:k], transforms['test'])\n",
    "        dataset_size = {'train': k, 'test': k}\n",
    "    else:\n",
    "        train_set = (X_train, y_train, transforms['train'])\n",
    "        valid_set = (X_valid, y_valid, transforms['test'])\n",
    "        test_set = (X_test, y_test, transforms['test'])\n",
    "        dataset_size = {'train': len(y_train), 'test': len(y_test)}\n",
    "\n",
    "    params = {'batch_size': Config['batch_size'],\n",
    "              'n_classes': n_classes,\n",
    "              'shuffle': True\n",
    "              }\n",
    "\n",
    "    train_generator =  DataGenerator(train_set, dataset_size, params)\n",
    "    valid_generator = DataGenerator(valid_set, dataset_size, params)\n",
    "    test_generator = DataGenerator(test_set, dataset_size, params)"
   ]
  },
  {
   "cell_type": "code",
   "execution_count": null,
   "metadata": {
    "colab": {},
    "colab_type": "code",
    "id": "jSP_TMehSGiu"
   },
   "outputs": [],
   "source": [
    "def pairwise_siamese():\n",
    "    input_shape = (224, 224, 3)\n",
    "    # Define the tensors for the two input images\n",
    "    left_input = Input(input_shape)\n",
    "    right_input = Input(input_shape)\n",
    "\n",
    "    model = Sequential()\n",
    "    model.add(Conv2D(8, (3,3), input_shape=input_shape))\n",
    "    model.add(BatchNormalization())\n",
    "    model.add(Activation('relu'))\n",
    "    model.add(layers.MaxPooling2D())\n",
    "    model.add(Conv2D(16, (3,3)))\n",
    "    model.add(BatchNormalization())\n",
    "    model.add(Activation('relu'))\n",
    "    model.add(MaxPooling2D())\n",
    "    model.add(Conv2D(32, (3,3)))\n",
    "    model.add(BatchNormalization())\n",
    "    model.add(Activation('relu'))\n",
    "    model.add(MaxPooling2D())\n",
    "    model.add(Conv2D(64, (3,3)))\n",
    "    model.add(Activation('relu'))\n",
    "    model.add(Flatten())\n",
    "    model.add(Dense(512, activation='relu'))\n",
    "\n",
    "\n",
    "    # Generate the encodings (feature vectors) for the two images\n",
    "    encoded_l = model(left_input)\n",
    "    encoded_r = model(right_input)\n",
    "\n",
    "    # Add a customized layer to compute the absolute difference between the encodings\n",
    "    L1_layer = Lambda(lambda tensors:K.abs(tensors[0] - tensors[1]))\n",
    "    L1_distance = L1_layer([encoded_l, encoded_r])\n",
    "\n",
    "    # Add a dense layer with a sigmoid unit to generate the similarity score\n",
    "    prediction = Dense(1,activation='sigmoid')(L1_distance)\n",
    "\n",
    "    # Connect the inputs with the outputs\n",
    "    siamese_net = Model(inputs=[left_input,right_input],outputs=prediction)\n",
    "\n",
    "    siamese_net.compile(optimizer=optimizers.Adam(lr=1e-4), loss='binary_crossentropy', metrics=['accuracy'])\n",
    "    # return the model\n",
    "    return siamese_net\n",
    "    \n",
    "model = pairwise_siamese()  "
   ]
  },
  {
   "cell_type": "code",
   "execution_count": 6,
   "metadata": {
    "colab": {
     "base_uri": "https://localhost:8080/",
     "height": 364
    },
    "colab_type": "code",
    "id": "y5onYxN4SGiw",
    "outputId": "10684378-2f35-41e2-9a98-331dcda02f70"
   },
   "outputs": [
    {
     "name": "stdout",
     "output_type": "stream",
     "text": [
      "Model: \"model\"\n",
      "__________________________________________________________________________________________________\n",
      "Layer (type)                    Output Shape         Param #     Connected to                     \n",
      "==================================================================================================\n",
      "input_1 (InputLayer)            [(None, 224, 224, 3) 0                                            \n",
      "__________________________________________________________________________________________________\n",
      "input_2 (InputLayer)            [(None, 224, 224, 3) 0                                            \n",
      "__________________________________________________________________________________________________\n",
      "sequential (Sequential)         (None, 512)          18899632    input_1[0][0]                    \n",
      "                                                                 input_2[0][0]                    \n",
      "__________________________________________________________________________________________________\n",
      "lambda (Lambda)                 (None, 512)          0           sequential[1][0]                 \n",
      "                                                                 sequential[2][0]                 \n",
      "__________________________________________________________________________________________________\n",
      "dense_1 (Dense)                 (None, 1)            513         lambda[0][0]                     \n",
      "==================================================================================================\n",
      "Total params: 18,900,145\n",
      "Trainable params: 18,900,033\n",
      "Non-trainable params: 112\n",
      "__________________________________________________________________________________________________\n"
     ]
    }
   ],
   "source": [
    "model.summary()"
   ]
  },
  {
   "cell_type": "code",
   "execution_count": 7,
   "metadata": {
    "colab": {
     "base_uri": "https://localhost:8080/",
     "height": 107
    },
    "colab_type": "code",
    "id": "D9h-8rIUSGiz",
    "outputId": "699b1cf8-fa18-4972-e750-65af2c9cacce"
   },
   "outputs": [
    {
     "name": "stdout",
     "output_type": "stream",
     "text": [
      "Epoch 1/2\n",
      "10732/10732 [==============================] - 9202s 857ms/step - loss: 0.6688 - accuracy: 0.5931 - val_loss: 0.6581 - val_accuracy: 0.6103\n",
      "Epoch 2/2\n",
      "10732/10732 [==============================] - 9270s 864ms/step - loss: 0.6515 - accuracy: 0.6172 - val_loss: 0.6527 - val_accuracy: 0.6148\n"
     ]
    }
   ],
   "source": [
    "history = model.fit(train_generator,validation_data=test_generator, epochs=2)"
   ]
  },
  {
   "cell_type": "code",
   "execution_count": null,
   "metadata": {
    "colab": {},
    "colab_type": "code",
    "id": "SdmBqwXZSGi3"
   },
   "outputs": [],
   "source": [
    "model.save('pairwise_comp.hdf5')    "
   ]
  },
  {
   "cell_type": "code",
   "execution_count": 13,
   "metadata": {
    "colab": {
     "base_uri": "https://localhost:8080/",
     "height": 573
    },
    "colab_type": "code",
    "id": "2hYJmm8PSGi5",
    "outputId": "6ed74cf6-16d1-4c02-ca53-95aa71a6b517"
   },
   "outputs": [
    {
     "data": {
      "image/png": "[encoded data removed]",
      "text/plain": [
       "<Figure size 432x288 with 1 Axes>"
      ]
     },
     "metadata": {
      "tags": []
     },
     "output_type": "display_data"
    },
    {
     "data": {
      "image/png": "[encoded data removed]",
      "text/plain": [
       "<Figure size 432x288 with 1 Axes>"
      ]
     },
     "metadata": {
      "tags": []
     },
     "output_type": "display_data"
    }
   ],
   "source": [
    "    def plot_history(history):\n",
    "        loss_list = [s for s in history.history.keys() if 'loss' in s and 'val' not in s]\n",
    "        val_loss_list = [s for s in history.history.keys() if 'loss' in s and 'val' in s]\n",
    "        acc_list = [s for s in history.history.keys() if 'acc' in s and 'val' not in s]\n",
    "        val_acc_list = [s for s in history.history.keys() if 'acc' in s and 'val' in s]\n",
    "\n",
    "        if len(loss_list) == 0:\n",
    "            print('Loss is missing in history')\n",
    "            return\n",
    "\n",
    "        ## As loss always exists\n",
    "        epochs = range(1,len(history.history[loss_list[0]]) + 1)\n",
    "\n",
    "        ## Loss\n",
    "        plt.figure(1)\n",
    "        for l in loss_list:\n",
    "            plt.plot(epochs, history.history[l], 'b', label='Training loss (' + str(str(format(history.history[l][-1],'.5f'))+')'))\n",
    "        for l in val_loss_list:\n",
    "            plt.plot(epochs, history.history[l], 'g', label='Validation loss (' + str(str(format(history.history[l][-1],'.5f'))+')'))\n",
    "\n",
    "        plt.title('Loss')\n",
    "        plt.xlabel('Epochs')\n",
    "        plt.ylabel('Loss')\n",
    "        plt.legend()\n",
    "\n",
    "        ## Accuracy\n",
    "        plt.figure(2)\n",
    "        for l in acc_list:\n",
    "            plt.plot(epochs, history.history[l], 'b', label='Training accuracy (' + str(format(history.history[l][-1],'.5f'))+')')\n",
    "        for l in val_acc_list:    \n",
    "            plt.plot(epochs, history.history[l], 'g', label='Validation accuracy (' + str(format(history.history[l][-1],'.5f'))+')')\n",
    "\n",
    "        plt.title('Accuracy')\n",
    "        plt.xlabel('Epochs')\n",
    "        plt.ylabel('Accuracy')\n",
    "        plt.legend()\n",
    "        plt.show()\n",
    "\n",
    "\n",
    "    plot_history(history)"
   ]
  },
  {
   "cell_type": "code",
   "execution_count": 14,
   "metadata": {
    "colab": {
     "base_uri": "https://localhost:8080/",
     "height": 369
    },
    "colab_type": "code",
    "id": "LS22RS-tSGi7",
    "outputId": "cf420855-2e13-4651-9616-4e039b697a1b"
   },
   "outputs": [
    {
     "data": {
      "image/png": "[encoded data removed]",
      "text/plain": [
       "<IPython.core.display.Image object>"
      ]
     },
     "execution_count": 14,
     "metadata": {
      "tags": []
     },
     "output_type": "execute_result"
    }
   ],
   "source": [
    "    tf.keras.utils.plot_model(\n",
    "        model, to_file='model.png', show_shapes=False, show_layer_names=True,\n",
    "        rankdir='TB', expand_nested=False, dpi=96\n",
    "    )"
   ]
  }
 ],
 "metadata": {
  "accelerator": "GPU",
  "colab": {
   "collapsed_sections": [],
   "name": "Pairwise_compatibility.ipynb",
   "provenance": []
  },
  "kernelspec": {
   "display_name": "Python 3",
   "language": "python",
   "name": "python3"
  },
  "language_info": {
   "codemirror_mode": {
    "name": "ipython",
    "version": 3
   },
   "file_extension": ".py",
   "mimetype": "text/x-python",
   "name": "python",
   "nbconvert_exporter": "python",
   "pygments_lexer": "ipython3",
   "version": "3.7.7"
  }
 },
 "nbformat": 4,
 "nbformat_minor": 4
}
