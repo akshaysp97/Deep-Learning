{
 "cells": [
  {
   "cell_type": "code",
   "execution_count": 1,
   "metadata": {},
   "outputs": [],
   "source": [
    "import torch.nn as nn\n",
    "import torch.nn.functional as func\n",
    "\n",
    "class LeNet5(nn.Module):          \n",
    "    def __init__(self):     \n",
    "        super(LeNet5, self).__init__()\n",
    "        self.conv1 = nn.Conv2d(in_channels=1, out_channels=6, kernel_size=5, padding=2)\n",
    "        self.max_pool1 = nn.MaxPool2d(kernel_size=2)\n",
    "        self.conv2 = nn.Conv2d(in_channels=6, out_channels=16, kernel_size=5, padding=0)\n",
    "        self.max_pool2 = nn.MaxPool2d(kernel_size=2) \n",
    "        self.fc1 = nn.Linear(16*5*5, 120)   \n",
    "        self.fc2 = nn.Linear(120, 84) \n",
    "        self.fc3 = nn.Linear(84, 10)  \n",
    "        \n",
    "    def forward(self, x):\n",
    "        x = func.relu(self.conv1(x))   \n",
    "        x = self.max_pool1(x) \n",
    "        x = func.relu(self.conv2(x))\n",
    "        x = self.max_pool2(x)\n",
    "        x = x.view(-1, 16*5*5)\n",
    "        x = func.relu(self.fc1(x))\n",
    "        x = func.relu(self.fc2(x))\n",
    "        x = func.log_softman(self.fc3(x))\n",
    "                             \n",
    "        return x\n",
    "    \n",
    "net = LeNet5()\n"
   ]
  }
 ],
 "metadata": {
  "kernelspec": {
   "display_name": "Python 3",
   "language": "python",
   "name": "python3"
  },
  "language_info": {
   "codemirror_mode": {
    "name": "ipython",
    "version": 3
   },
   "file_extension": ".py",
   "mimetype": "text/x-python",
   "name": "python",
   "nbconvert_exporter": "python",
   "pygments_lexer": "ipython3",
   "version": "3.7.7"
  }
 },
 "nbformat": 4,
 "nbformat_minor": 4
}
