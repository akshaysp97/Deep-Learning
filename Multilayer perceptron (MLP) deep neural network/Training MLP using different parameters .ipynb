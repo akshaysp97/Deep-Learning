{
 "cells": [
  {
   "cell_type": "markdown",
   "metadata": {
    "colab_type": "text",
    "id": "KK72KF76GMtD"
   },
   "source": [
    "# Confusion Matrix for Fashion MNIST\n"
   ]
  },
  {
   "cell_type": "code",
   "execution_count": null,
   "metadata": {
    "colab": {
     "base_uri": "https://localhost:8080/",
     "height": 1000
    },
    "colab_type": "code",
    "id": "RZeUbkAuGQdT",
    "outputId": "9e323475-0c21-4cc3-cbe4-6eb96ac742ec"
   },
   "outputs": [
    {
     "name": "stdout",
     "output_type": "stream",
     "text": [
      "Model: \"model_26\"\n",
      "_________________________________________________________________\n",
      "Layer (type)                 Output Shape              Param #   \n",
      "=================================================================\n",
      "images (InputLayer)          [(None, 784)]             0         \n",
      "_________________________________________________________________\n",
      "hidden (Dense)               (None, 100)               78500     \n",
      "_________________________________________________________________\n",
      "dropout_14 (Dropout)         (None, 100)               0         \n",
      "_________________________________________________________________\n",
      "output (Dense)               (None, 10)                1010      \n",
      "=================================================================\n",
      "Total params: 79,510\n",
      "Trainable params: 79,510\n",
      "Non-trainable params: 0\n",
      "_________________________________________________________________\n",
      "Train on 54000 samples, validate on 6000 samples\n",
      "Epoch 1/30\n",
      "54000/54000 [==============================] - 3s 46us/sample - loss: 1.0858 - acc: 0.6356 - val_loss: 0.6368 - val_acc: 0.7905\n",
      "Epoch 2/30\n",
      "54000/54000 [==============================] - 1s 17us/sample - loss: 0.6544 - acc: 0.7878 - val_loss: 0.5310 - val_acc: 0.8263\n",
      "Epoch 3/30\n",
      "54000/54000 [==============================] - 1s 17us/sample - loss: 0.5668 - acc: 0.8153 - val_loss: 0.4903 - val_acc: 0.8392\n",
      "Epoch 4/30\n",
      "54000/54000 [==============================] - 1s 18us/sample - loss: 0.5226 - acc: 0.8287 - val_loss: 0.4632 - val_acc: 0.8428\n",
      "Epoch 5/30\n",
      "54000/54000 [==============================] - 1s 18us/sample - loss: 0.4914 - acc: 0.8389 - val_loss: 0.4431 - val_acc: 0.8512\n",
      "Epoch 6/30\n",
      "54000/54000 [==============================] - 1s 18us/sample - loss: 0.4726 - acc: 0.8442 - val_loss: 0.4285 - val_acc: 0.8542\n",
      "Epoch 7/30\n",
      "54000/54000 [==============================] - 1s 17us/sample - loss: 0.4558 - acc: 0.8486 - val_loss: 0.4172 - val_acc: 0.8580\n",
      "Epoch 8/30\n",
      "54000/54000 [==============================] - 1s 18us/sample - loss: 0.4394 - acc: 0.8559 - val_loss: 0.4116 - val_acc: 0.8622\n",
      "Epoch 9/30\n",
      "54000/54000 [==============================] - 1s 18us/sample - loss: 0.4303 - acc: 0.8589 - val_loss: 0.4051 - val_acc: 0.8642\n",
      "Epoch 10/30\n",
      "54000/54000 [==============================] - 1s 18us/sample - loss: 0.4227 - acc: 0.8602 - val_loss: 0.4092 - val_acc: 0.8602\n",
      "Epoch 11/30\n",
      "54000/54000 [==============================] - 1s 18us/sample - loss: 0.4149 - acc: 0.8631 - val_loss: 0.3939 - val_acc: 0.8647\n",
      "Epoch 12/30\n",
      "54000/54000 [==============================] - 1s 17us/sample - loss: 0.4058 - acc: 0.8672 - val_loss: 0.3891 - val_acc: 0.8672\n",
      "Epoch 13/30\n",
      "54000/54000 [==============================] - 1s 18us/sample - loss: 0.4002 - acc: 0.8689 - val_loss: 0.3861 - val_acc: 0.8693\n",
      "Epoch 14/30\n",
      "54000/54000 [==============================] - 1s 18us/sample - loss: 0.3936 - acc: 0.8712 - val_loss: 0.3816 - val_acc: 0.8702\n",
      "Epoch 15/30\n",
      "54000/54000 [==============================] - 1s 17us/sample - loss: 0.3898 - acc: 0.8721 - val_loss: 0.3794 - val_acc: 0.8715\n",
      "Epoch 16/30\n",
      "54000/54000 [==============================] - 1s 18us/sample - loss: 0.3864 - acc: 0.8738 - val_loss: 0.3781 - val_acc: 0.8722\n",
      "Epoch 17/30\n",
      "54000/54000 [==============================] - 1s 18us/sample - loss: 0.3815 - acc: 0.8742 - val_loss: 0.3728 - val_acc: 0.8745\n",
      "Epoch 18/30\n",
      "54000/54000 [==============================] - 1s 19us/sample - loss: 0.3757 - acc: 0.8771 - val_loss: 0.3710 - val_acc: 0.8775\n",
      "Epoch 19/30\n",
      "54000/54000 [==============================] - 1s 18us/sample - loss: 0.3725 - acc: 0.8793 - val_loss: 0.3702 - val_acc: 0.8753\n",
      "Epoch 20/30\n",
      "54000/54000 [==============================] - 1s 18us/sample - loss: 0.3694 - acc: 0.8791 - val_loss: 0.3675 - val_acc: 0.8770\n",
      "Epoch 21/30\n",
      "54000/54000 [==============================] - 1s 18us/sample - loss: 0.3640 - acc: 0.8817 - val_loss: 0.3639 - val_acc: 0.8762\n",
      "Epoch 22/30\n",
      "54000/54000 [==============================] - 1s 18us/sample - loss: 0.3645 - acc: 0.8801 - val_loss: 0.3661 - val_acc: 0.8773\n",
      "Epoch 23/30\n",
      "54000/54000 [==============================] - 1s 18us/sample - loss: 0.3606 - acc: 0.8824 - val_loss: 0.3663 - val_acc: 0.8773\n",
      "Epoch 24/30\n",
      "54000/54000 [==============================] - 1s 18us/sample - loss: 0.3585 - acc: 0.8826 - val_loss: 0.3665 - val_acc: 0.8775\n",
      "Epoch 25/30\n",
      "54000/54000 [==============================] - 1s 18us/sample - loss: 0.3567 - acc: 0.8831 - val_loss: 0.3584 - val_acc: 0.8785\n",
      "Epoch 26/30\n",
      "54000/54000 [==============================] - 1s 18us/sample - loss: 0.3545 - acc: 0.8849 - val_loss: 0.3598 - val_acc: 0.8815\n",
      "Epoch 27/30\n",
      "54000/54000 [==============================] - 1s 18us/sample - loss: 0.3505 - acc: 0.8856 - val_loss: 0.3573 - val_acc: 0.8812\n",
      "Epoch 28/30\n",
      "54000/54000 [==============================] - 1s 18us/sample - loss: 0.3515 - acc: 0.8864 - val_loss: 0.3576 - val_acc: 0.8828\n",
      "Epoch 29/30\n",
      "54000/54000 [==============================] - 1s 19us/sample - loss: 0.3455 - acc: 0.8888 - val_loss: 0.3585 - val_acc: 0.8793\n",
      "Epoch 30/30\n",
      "54000/54000 [==============================] - 1s 19us/sample - loss: 0.3443 - acc: 0.8886 - val_loss: 0.3516 - val_acc: 0.8825\n"
     ]
    },
    {
     "data": {
      "text/plain": [
       "<matplotlib.legend.Legend at 0x7f4343488c50>"
      ]
     },
     "execution_count": 35,
     "metadata": {
      "tags": []
     },
     "output_type": "execute_result"
    },
    {
     "data": {
      "image/png": "[encoded data removed]",
      "text/plain": [
       "<Figure size 432x288 with 1 Axes>"
      ]
     },
     "metadata": {
      "tags": []
     },
     "output_type": "display_data"
    }
   ],
   "source": [
    "# Confusion Matrix for Fashion MNIST\n",
    "\n",
    "import numpy as np\n",
    "import matplotlib.pyplot as plt\n",
    "import tensorflow as tf\n",
    "from tensorflow.keras import Model\n",
    "from tensorflow.keras.layers import Input, Dense, Dropout\n",
    "from tensorflow.keras.utils import plot_model\n",
    "from tensorflow.keras.datasets import fashion_mnist\n",
    "from tensorflow.keras.losses import SparseCategoricalCrossentropy\n",
    "from tensorflow.keras.models import load_model\n",
    "from tensorflow.keras import regularizers\n",
    "from sklearn.metrics import confusion_matrix\n",
    "\n",
    "value = 0.0001\n",
    "dropout = 0.3\n",
    "(train_img, train_label), (test_img, test_label) = fashion_mnist.load_data()\n",
    "pixels = 28 * 28 \n",
    "train_img = train_img.reshape( (60000, pixels) ).astype(np.float32) / 255.0\n",
    "test_img = test_img.reshape( (10000, pixels) ).astype(np.float32)  / 255.0\n",
    "inp = Input(shape=(pixels,), name='images')\n",
    "z = Dense(100, activation='relu', kernel_regularizer=regularizers.l2(value), bias_regularizer=regularizers.l2(value), name='hidden')(inp)\n",
    "z = Dropout(dropout)(z)\n",
    "z = Dense(10, activation='softmax', kernel_regularizer=regularizers.l2(value), bias_regularizer=regularizers.l2(value), name='output')(z)\n",
    "\n",
    "our_first_model = Model(inputs=inp, outputs=z)\n",
    "our_first_model.summary()\n",
    "plot_model(our_first_model, to_file='our_first_model.png', show_shapes=True, show_layer_names=True)\n",
    "our_first_model.compile(optimizer='adam', loss=SparseCategoricalCrossentropy(), metrics=['accuracy'])\n",
    "results = our_first_model.fit(train_img,  train_label, batch_size=1000, epochs=30, validation_split=0.1)\n",
    "our_first_model.save('fmnist_trained.hdf5')\n",
    "\n",
    "loss = results.history['loss']\n",
    "val_loss = results.history['val_loss']\n",
    "acc = results.history['acc']\n",
    "val_acc = results.history['val_acc']\n",
    "epochs = np.arange(len(loss))\n",
    "\n",
    "plt.figure()\n",
    "plt.plot(epochs, acc, label='acc')\n",
    "plt.plot(epochs, val_acc, label='val_acc')\n",
    "plt.xlabel('epochs')\n",
    "plt.ylabel('Accuracy')\n",
    "plt.title(f'Accuracy with Regularizer: {value : 3.2g}; Dropout: {dropout : 3.2g} ')\n",
    "plt.legend()\n"
   ]
  },
  {
   "cell_type": "code",
   "execution_count": null,
   "metadata": {
    "colab": {
     "base_uri": "https://localhost:8080/",
     "height": 483
    },
    "colab_type": "code",
    "id": "EtTD0ab2IjsJ",
    "outputId": "4426e40b-2e9b-48eb-9c0a-34d45d34d93f"
   },
   "outputs": [
    {
     "name": "stdout",
     "output_type": "stream",
     "text": [
      "Confusion matrix is \n",
      " [[836   4  14  36   3   1  99   0   7   0]\n",
      " [  2 965   2  22   5   0   3   0   1   0]\n",
      " [ 15   1 783  13 110   1  75   0   2   0]\n",
      " [ 23   8   8 895  33   1  28   0   4   0]\n",
      " [  0   1  81  34 809   0  73   0   2   0]\n",
      " [  0   0   0   1   0 958   0  26   2  13]\n",
      " [128   1  76  34  76   0 674   0  11   0]\n",
      " [  0   0   0   0   0  24   0 938   0  38]\n",
      " [  6   1   2   6   6   3   7   5 964   0]\n",
      " [  0   0   0   0   0   7   1  26   0 966]]\n"
     ]
    },
    {
     "data": {
      "text/plain": [
       "<matplotlib.image.AxesImage at 0x7f4342bb5710>"
      ]
     },
     "execution_count": 36,
     "metadata": {
      "tags": []
     },
     "output_type": "execute_result"
    },
    {
     "data": {
      "image/png": "[encoded data removed]",
      "text/plain": [
       "<Figure size 432x288 with 1 Axes>"
      ]
     },
     "metadata": {
      "tags": []
     },
     "output_type": "display_data"
    }
   ],
   "source": [
    "# Confusion matrix \n",
    "\n",
    "data = load_model('fmnist_trained.hdf5')\n",
    "\n",
    "dec = []\n",
    "for i in range(len(test_img)):\n",
    "  pred = data.predict(test_img[i].reshape(1,pixels))\n",
    "  num = 10\n",
    "  pred = pred.reshape(10)\n",
    "  dec.append(pred)\n",
    "  class_decision = np.argmax(pred)\n",
    "dec = np.array(dec)\n",
    "cm = np.dot(dec.T,dec)\n",
    "y_pred =[]\n",
    "for i in range(len(dec)):\n",
    "  y_pred.append(np.argmax(dec[i]))\n",
    "y_pred = np.array(y_pred)\n",
    "y_actu = test_label\n",
    "x = confusion_matrix(y_actu, y_pred)\n",
    "cm =[]\n",
    "for i in range(len(x)):\n",
    "  temp = x[i]\n",
    "  cm.append(temp)\n",
    "print(\"Confusion matrix is \\n\",np.array(cm))\n",
    "plt.figure()\n",
    "plt.matshow(cm, fignum=1)"
   ]
  },
  {
   "cell_type": "markdown",
   "metadata": {
    "colab_type": "text",
    "id": "Ie3Zql3GZB6Q"
   },
   "source": [
    "\n",
    "\n",
    "1.   Class 0 is most likely confused with class 6.\n",
    "2.   Class 1 is most likely confused with class 3.\n",
    "3.   Class 2 is most likely confused with class 4.\n",
    "4.   Class 3 is most likely confused with class 6.\n",
    "5.   Class 4 is most likely confused with class 2.\n",
    "6.   Class 5 is most likely confused with class 7.\n",
    "7.   Class 6 is most likely confused with class 0.\n",
    "8.   Class 7 is most likely confused with class 9.\n",
    "9.   Class 8 is most likely confused with class 6.\n",
    "10.  Class 9 is most likely confused with class 7.\n",
    "\n",
    "\n",
    "\n",
    "\n",
    "\n",
    "\n",
    "\n",
    "\n",
    "\n",
    "\n",
    "\n",
    "\n",
    "\n",
    "\n",
    "\n"
   ]
  },
  {
   "cell_type": "markdown",
   "metadata": {
    "colab_type": "text",
    "id": "fFfJGgTyasnf"
   },
   "source": [
    "Overall, the two classes that are most likely to be confused with are class 6 with class 0."
   ]
  },
  {
   "cell_type": "markdown",
   "metadata": {
    "colab_type": "text",
    "id": "CR4Ga_olG8S-"
   },
   "source": [
    "# Exploring Regularization on Fashion MNIST\n"
   ]
  },
  {
   "cell_type": "code",
   "execution_count": null,
   "metadata": {
    "colab": {
     "base_uri": "https://localhost:8080/",
     "height": 1000
    },
    "colab_type": "code",
    "id": "cN6ke_c-GdI0",
    "outputId": "88ba511f-4c97-495e-c6eb-cde63a2c744d"
   },
   "outputs": [
    {
     "name": "stdout",
     "output_type": "stream",
     "text": [
      "Train on 54000 samples, validate on 6000 samples\n",
      "Epoch 1/40\n",
      "54000/54000 [==============================] - 2s 40us/sample - loss: 0.8898 - acc: 0.7161 - val_loss: 0.5572 - val_acc: 0.8117\n",
      "Epoch 2/40\n",
      "54000/54000 [==============================] - 1s 15us/sample - loss: 0.5185 - acc: 0.8263 - val_loss: 0.4826 - val_acc: 0.8303\n",
      "Epoch 3/40\n",
      "54000/54000 [==============================] - 1s 15us/sample - loss: 0.4593 - acc: 0.8446 - val_loss: 0.4422 - val_acc: 0.8457\n",
      "Epoch 4/40\n",
      "54000/54000 [==============================] - 1s 15us/sample - loss: 0.4284 - acc: 0.8539 - val_loss: 0.4228 - val_acc: 0.8527\n",
      "Epoch 5/40\n",
      "54000/54000 [==============================] - 1s 15us/sample - loss: 0.4105 - acc: 0.8579 - val_loss: 0.4087 - val_acc: 0.8565\n",
      "Epoch 6/40\n",
      "54000/54000 [==============================] - 1s 16us/sample - loss: 0.3940 - acc: 0.8633 - val_loss: 0.3946 - val_acc: 0.8618\n",
      "Epoch 7/40\n",
      "54000/54000 [==============================] - 1s 15us/sample - loss: 0.3785 - acc: 0.8690 - val_loss: 0.3857 - val_acc: 0.8662\n",
      "Epoch 8/40\n",
      "54000/54000 [==============================] - 1s 15us/sample - loss: 0.3689 - acc: 0.8721 - val_loss: 0.3892 - val_acc: 0.8587\n",
      "Epoch 9/40\n",
      "54000/54000 [==============================] - 1s 16us/sample - loss: 0.3600 - acc: 0.8746 - val_loss: 0.3713 - val_acc: 0.8692\n",
      "Epoch 10/40\n",
      "54000/54000 [==============================] - 1s 18us/sample - loss: 0.3483 - acc: 0.8779 - val_loss: 0.3716 - val_acc: 0.8677\n",
      "Epoch 11/40\n",
      "54000/54000 [==============================] - 1s 16us/sample - loss: 0.3422 - acc: 0.8801 - val_loss: 0.3650 - val_acc: 0.8687\n",
      "Epoch 12/40\n",
      "54000/54000 [==============================] - 1s 17us/sample - loss: 0.3337 - acc: 0.8822 - val_loss: 0.3609 - val_acc: 0.8683\n",
      "Epoch 13/40\n",
      "54000/54000 [==============================] - 1s 16us/sample - loss: 0.3272 - acc: 0.8854 - val_loss: 0.3499 - val_acc: 0.8763\n",
      "Epoch 14/40\n",
      "54000/54000 [==============================] - 1s 16us/sample - loss: 0.3195 - acc: 0.8879 - val_loss: 0.3476 - val_acc: 0.8752\n",
      "Epoch 15/40\n",
      "54000/54000 [==============================] - 1s 16us/sample - loss: 0.3143 - acc: 0.8882 - val_loss: 0.3425 - val_acc: 0.8778\n",
      "Epoch 16/40\n",
      "54000/54000 [==============================] - 1s 17us/sample - loss: 0.3071 - acc: 0.8920 - val_loss: 0.3472 - val_acc: 0.8735\n",
      "Epoch 17/40\n",
      "54000/54000 [==============================] - 1s 16us/sample - loss: 0.3027 - acc: 0.8927 - val_loss: 0.3401 - val_acc: 0.8770\n",
      "Epoch 18/40\n",
      "54000/54000 [==============================] - 1s 17us/sample - loss: 0.2962 - acc: 0.8954 - val_loss: 0.3527 - val_acc: 0.8748\n",
      "Epoch 19/40\n",
      "54000/54000 [==============================] - 1s 17us/sample - loss: 0.2947 - acc: 0.8961 - val_loss: 0.3325 - val_acc: 0.8777\n",
      "Epoch 20/40\n",
      "54000/54000 [==============================] - 1s 17us/sample - loss: 0.2874 - acc: 0.8979 - val_loss: 0.3442 - val_acc: 0.8765\n",
      "Epoch 21/40\n",
      "54000/54000 [==============================] - 1s 17us/sample - loss: 0.2840 - acc: 0.8986 - val_loss: 0.3475 - val_acc: 0.8767\n",
      "Epoch 22/40\n",
      "54000/54000 [==============================] - 1s 17us/sample - loss: 0.2787 - acc: 0.9011 - val_loss: 0.3298 - val_acc: 0.8825\n",
      "Epoch 23/40\n",
      "54000/54000 [==============================] - 1s 16us/sample - loss: 0.2779 - acc: 0.9011 - val_loss: 0.3324 - val_acc: 0.8813\n",
      "Epoch 24/40\n",
      "54000/54000 [==============================] - 1s 16us/sample - loss: 0.2697 - acc: 0.9039 - val_loss: 0.3253 - val_acc: 0.8848\n",
      "Epoch 25/40\n",
      "54000/54000 [==============================] - 1s 16us/sample - loss: 0.2671 - acc: 0.9050 - val_loss: 0.3273 - val_acc: 0.8840\n",
      "Epoch 26/40\n",
      "54000/54000 [==============================] - 1s 16us/sample - loss: 0.2647 - acc: 0.9065 - val_loss: 0.3320 - val_acc: 0.8833\n",
      "Epoch 27/40\n",
      "54000/54000 [==============================] - 1s 17us/sample - loss: 0.2654 - acc: 0.9052 - val_loss: 0.3305 - val_acc: 0.8832\n",
      "Epoch 28/40\n",
      "54000/54000 [==============================] - 1s 16us/sample - loss: 0.2573 - acc: 0.9083 - val_loss: 0.3235 - val_acc: 0.8832\n",
      "Epoch 29/40\n",
      "54000/54000 [==============================] - 1s 17us/sample - loss: 0.2530 - acc: 0.9105 - val_loss: 0.3273 - val_acc: 0.8842\n",
      "Epoch 30/40\n",
      "54000/54000 [==============================] - 1s 16us/sample - loss: 0.2534 - acc: 0.9102 - val_loss: 0.3407 - val_acc: 0.8785\n",
      "Epoch 31/40\n",
      "54000/54000 [==============================] - 1s 16us/sample - loss: 0.2480 - acc: 0.9123 - val_loss: 0.3245 - val_acc: 0.8835\n",
      "Epoch 32/40\n",
      "54000/54000 [==============================] - 1s 16us/sample - loss: 0.2450 - acc: 0.9142 - val_loss: 0.3272 - val_acc: 0.8837\n",
      "Epoch 33/40\n",
      "54000/54000 [==============================] - 1s 16us/sample - loss: 0.2457 - acc: 0.9132 - val_loss: 0.3329 - val_acc: 0.8808\n",
      "Epoch 34/40\n",
      "54000/54000 [==============================] - 1s 16us/sample - loss: 0.2430 - acc: 0.9142 - val_loss: 0.3185 - val_acc: 0.8857\n",
      "Epoch 35/40\n",
      "54000/54000 [==============================] - 1s 16us/sample - loss: 0.2365 - acc: 0.9161 - val_loss: 0.3149 - val_acc: 0.8875\n",
      "Epoch 36/40\n",
      "54000/54000 [==============================] - 1s 16us/sample - loss: 0.2337 - acc: 0.9175 - val_loss: 0.3200 - val_acc: 0.8865\n",
      "Epoch 37/40\n",
      "54000/54000 [==============================] - 1s 16us/sample - loss: 0.2348 - acc: 0.9169 - val_loss: 0.3195 - val_acc: 0.8863\n",
      "Epoch 38/40\n",
      "54000/54000 [==============================] - 1s 16us/sample - loss: 0.2292 - acc: 0.9194 - val_loss: 0.3239 - val_acc: 0.8857\n",
      "Epoch 39/40\n",
      "54000/54000 [==============================] - 1s 16us/sample - loss: 0.2298 - acc: 0.9183 - val_loss: 0.3200 - val_acc: 0.8867\n",
      "Epoch 40/40\n",
      "54000/54000 [==============================] - 1s 16us/sample - loss: 0.2250 - acc: 0.9205 - val_loss: 0.3287 - val_acc: 0.8857\n"
     ]
    },
    {
     "data": {
      "image/png": "[encoded data removed]",
      "text/plain": [
       "<Figure size 432x288 with 1 Axes>"
      ]
     },
     "metadata": {
      "tags": []
     },
     "output_type": "display_data"
    },
    {
     "data": {
      "image/png": "[encoded data removed]",
      "text/plain": [
       "<Figure size 432x288 with 1 Axes>"
      ]
     },
     "metadata": {
      "tags": []
     },
     "output_type": "display_data"
    }
   ],
   "source": [
    "# Exploring Regularization on Fashion MNIST\n",
    "# One hidden layer with ReLu activation, 128 nodes. No regularization, no dropout.\n",
    "\n",
    "import tensorflow as tf\n",
    "from tensorflow import keras\n",
    "import numpy as np\n",
    "\n",
    "fashion_mnist = keras.datasets.fashion_mnist\n",
    "(train_img, train_label), (test_img, test_label) = fashion_mnist.load_data()\n",
    "pixels = 28 * 28 \n",
    "train_img = train_img.reshape( (60000, pixels) ).astype(np.float32) / 255.0\n",
    "test_img = test_img.reshape( (10000, pixels) ).astype(np.float32)  / 255.0\n",
    "inp = keras.layers.Input(shape=(pixels,), name='images')\n",
    "z = keras.layers.Dense(128, activation='relu', name='hidden')(inp)\n",
    "z = keras.layers.Dense(10, activation='softmax', name='output')(z)\n",
    "our_first_model = keras.Model(inputs=inp, outputs=z)\n",
    "\n",
    "our_first_model.compile(optimizer='adam', loss='sparse_categorical_crossentropy', metrics=['accuracy'])\n",
    "results = our_first_model.fit(train_img,  train_label, batch_size=1000, epochs=40, validation_split=0.1)\n",
    "our_first_model.save('fmnist_trained_1_q3.hdf5')\n",
    "trained_parameters = our_first_model.get_layer('hidden').get_weights()\n",
    "weights_hidden = trained_parameters[0]\n",
    "trained_parameters1 = our_first_model.get_layer('output').get_weights()\n",
    "weights_output = trained_parameters1[0]\n",
    "loss = results.history['loss']\n",
    "val_loss = results.history['val_loss']\n",
    "acc = results.history['acc']\n",
    "val_acc = results.history['val_acc']\n",
    "\n",
    "epochs = np.arange(len(loss))\n",
    "data = load_model('fmnist_trained.hdf5')\n",
    "s = np.reshape(weights_hidden,-1)\n",
    "\n",
    "fig = plt.figure()\n",
    "plt.hist(s, bins = 50, color = 'red', label = 'hidden weights')\n",
    "plt.grid(True)\n",
    "plt.legend()\n",
    "axes = plt.gca()\n",
    "\n",
    "s1 = np.reshape(weights_output,-1)\n",
    "fig = plt.figure()\n",
    "plt.hist(s1, bins = 50, color='red', label = 'output weights')\n",
    "plt.grid(True)\n",
    "plt.legend()\n",
    "axes = plt.gca()"
   ]
  },
  {
   "cell_type": "code",
   "execution_count": null,
   "metadata": {
    "colab": {
     "base_uri": "https://localhost:8080/",
     "height": 1000
    },
    "colab_type": "code",
    "id": "9Os4g8PZHtMm",
    "outputId": "08e7449f-dbe5-4b04-86a2-e25102d191ef"
   },
   "outputs": [
    {
     "name": "stdout",
     "output_type": "stream",
     "text": [
      "Model: \"model_24\"\n",
      "_________________________________________________________________\n",
      "Layer (type)                 Output Shape              Param #   \n",
      "=================================================================\n",
      "images (InputLayer)          [(None, 784)]             0         \n",
      "_________________________________________________________________\n",
      "hidden (Dense)               (None, 48)                37680     \n",
      "_________________________________________________________________\n",
      "dropout_13 (Dropout)         (None, 48)                0         \n",
      "_________________________________________________________________\n",
      "output (Dense)               (None, 10)                490       \n",
      "=================================================================\n",
      "Total params: 38,170\n",
      "Trainable params: 38,170\n",
      "Non-trainable params: 0\n",
      "_________________________________________________________________\n",
      "Train on 54000 samples, validate on 6000 samples\n",
      "Epoch 1/40\n",
      "54000/54000 [==============================] - 2s 38us/sample - loss: 1.2268 - acc: 0.5818 - val_loss: 0.7057 - val_acc: 0.7698\n",
      "Epoch 2/40\n",
      "54000/54000 [==============================] - 1s 12us/sample - loss: 0.7197 - acc: 0.7623 - val_loss: 0.5739 - val_acc: 0.8155\n",
      "Epoch 3/40\n",
      "54000/54000 [==============================] - 1s 12us/sample - loss: 0.6167 - acc: 0.7965 - val_loss: 0.5232 - val_acc: 0.8283\n",
      "Epoch 4/40\n",
      "54000/54000 [==============================] - 1s 12us/sample - loss: 0.5647 - acc: 0.8136 - val_loss: 0.4890 - val_acc: 0.8358\n",
      "Epoch 5/40\n",
      "54000/54000 [==============================] - 1s 13us/sample - loss: 0.5304 - acc: 0.8240 - val_loss: 0.4772 - val_acc: 0.8380\n",
      "Epoch 6/40\n",
      "54000/54000 [==============================] - 1s 12us/sample - loss: 0.5066 - acc: 0.8321 - val_loss: 0.4534 - val_acc: 0.8475\n",
      "Epoch 7/40\n",
      "54000/54000 [==============================] - 1s 12us/sample - loss: 0.4860 - acc: 0.8399 - val_loss: 0.4412 - val_acc: 0.8512\n",
      "Epoch 8/40\n",
      "54000/54000 [==============================] - 1s 12us/sample - loss: 0.4694 - acc: 0.8427 - val_loss: 0.4314 - val_acc: 0.8537\n",
      "Epoch 9/40\n",
      "54000/54000 [==============================] - 1s 12us/sample - loss: 0.4586 - acc: 0.8477 - val_loss: 0.4242 - val_acc: 0.8553\n",
      "Epoch 10/40\n",
      "54000/54000 [==============================] - 1s 12us/sample - loss: 0.4492 - acc: 0.8522 - val_loss: 0.4161 - val_acc: 0.8595\n",
      "Epoch 11/40\n",
      "54000/54000 [==============================] - 1s 12us/sample - loss: 0.4406 - acc: 0.8521 - val_loss: 0.4110 - val_acc: 0.8593\n",
      "Epoch 12/40\n",
      "54000/54000 [==============================] - 1s 12us/sample - loss: 0.4325 - acc: 0.8561 - val_loss: 0.4096 - val_acc: 0.8590\n",
      "Epoch 13/40\n",
      "54000/54000 [==============================] - 1s 12us/sample - loss: 0.4267 - acc: 0.8575 - val_loss: 0.4018 - val_acc: 0.8633\n",
      "Epoch 14/40\n",
      "54000/54000 [==============================] - 1s 12us/sample - loss: 0.4223 - acc: 0.8588 - val_loss: 0.3977 - val_acc: 0.8608\n",
      "Epoch 15/40\n",
      "54000/54000 [==============================] - 1s 13us/sample - loss: 0.4161 - acc: 0.8624 - val_loss: 0.3936 - val_acc: 0.8670\n",
      "Epoch 16/40\n",
      "54000/54000 [==============================] - 1s 12us/sample - loss: 0.4106 - acc: 0.8636 - val_loss: 0.3889 - val_acc: 0.8670\n",
      "Epoch 17/40\n",
      "54000/54000 [==============================] - 1s 12us/sample - loss: 0.4064 - acc: 0.8654 - val_loss: 0.3906 - val_acc: 0.8680\n",
      "Epoch 18/40\n",
      "54000/54000 [==============================] - 1s 12us/sample - loss: 0.4012 - acc: 0.8680 - val_loss: 0.3852 - val_acc: 0.8657\n",
      "Epoch 19/40\n",
      "54000/54000 [==============================] - 1s 12us/sample - loss: 0.3994 - acc: 0.8674 - val_loss: 0.3854 - val_acc: 0.8677\n",
      "Epoch 20/40\n",
      "54000/54000 [==============================] - 1s 12us/sample - loss: 0.3943 - acc: 0.8698 - val_loss: 0.3827 - val_acc: 0.8657\n",
      "Epoch 21/40\n",
      "54000/54000 [==============================] - 1s 12us/sample - loss: 0.3929 - acc: 0.8701 - val_loss: 0.3799 - val_acc: 0.8707\n",
      "Epoch 22/40\n",
      "54000/54000 [==============================] - 1s 12us/sample - loss: 0.3878 - acc: 0.8722 - val_loss: 0.3772 - val_acc: 0.8703\n",
      "Epoch 23/40\n",
      "54000/54000 [==============================] - 1s 12us/sample - loss: 0.3834 - acc: 0.8734 - val_loss: 0.3777 - val_acc: 0.8712\n",
      "Epoch 24/40\n",
      "54000/54000 [==============================] - 1s 12us/sample - loss: 0.3819 - acc: 0.8738 - val_loss: 0.3739 - val_acc: 0.8725\n",
      "Epoch 25/40\n",
      "54000/54000 [==============================] - 1s 12us/sample - loss: 0.3793 - acc: 0.8751 - val_loss: 0.3765 - val_acc: 0.8693\n",
      "Epoch 26/40\n",
      "54000/54000 [==============================] - 1s 12us/sample - loss: 0.3794 - acc: 0.8764 - val_loss: 0.3697 - val_acc: 0.8727\n",
      "Epoch 27/40\n",
      "54000/54000 [==============================] - 1s 13us/sample - loss: 0.3755 - acc: 0.8769 - val_loss: 0.3703 - val_acc: 0.8755\n",
      "Epoch 28/40\n",
      "54000/54000 [==============================] - 1s 12us/sample - loss: 0.3730 - acc: 0.8767 - val_loss: 0.3702 - val_acc: 0.8713\n",
      "Epoch 29/40\n",
      "54000/54000 [==============================] - 1s 12us/sample - loss: 0.3697 - acc: 0.8791 - val_loss: 0.3671 - val_acc: 0.8752\n",
      "Epoch 30/40\n",
      "54000/54000 [==============================] - 1s 12us/sample - loss: 0.3690 - acc: 0.8776 - val_loss: 0.3717 - val_acc: 0.8737\n",
      "Epoch 31/40\n",
      "54000/54000 [==============================] - 1s 12us/sample - loss: 0.3668 - acc: 0.8794 - val_loss: 0.3754 - val_acc: 0.8725\n",
      "Epoch 32/40\n",
      "54000/54000 [==============================] - 1s 12us/sample - loss: 0.3656 - acc: 0.8802 - val_loss: 0.3666 - val_acc: 0.8740\n",
      "Epoch 33/40\n",
      "54000/54000 [==============================] - 1s 12us/sample - loss: 0.3644 - acc: 0.8806 - val_loss: 0.3638 - val_acc: 0.8763\n",
      "Epoch 34/40\n",
      "54000/54000 [==============================] - 1s 12us/sample - loss: 0.3637 - acc: 0.8791 - val_loss: 0.3661 - val_acc: 0.8712\n",
      "Epoch 35/40\n",
      "54000/54000 [==============================] - 1s 12us/sample - loss: 0.3611 - acc: 0.8818 - val_loss: 0.3626 - val_acc: 0.8802\n",
      "Epoch 36/40\n",
      "54000/54000 [==============================] - 1s 12us/sample - loss: 0.3598 - acc: 0.8817 - val_loss: 0.3600 - val_acc: 0.8775\n",
      "Epoch 37/40\n",
      "54000/54000 [==============================] - 1s 12us/sample - loss: 0.3590 - acc: 0.8809 - val_loss: 0.3615 - val_acc: 0.8787\n",
      "Epoch 38/40\n",
      "54000/54000 [==============================] - 1s 12us/sample - loss: 0.3566 - acc: 0.8834 - val_loss: 0.3655 - val_acc: 0.8748\n",
      "Epoch 39/40\n",
      "54000/54000 [==============================] - 1s 12us/sample - loss: 0.3554 - acc: 0.8836 - val_loss: 0.3592 - val_acc: 0.8770\n",
      "Epoch 40/40\n",
      "54000/54000 [==============================] - 1s 12us/sample - loss: 0.3555 - acc: 0.8830 - val_loss: 0.3600 - val_acc: 0.8793\n"
     ]
    },
    {
     "data": {
      "image/png": "[encoded data removed]",
      "text/plain": [
       "<Figure size 432x288 with 1 Axes>"
      ]
     },
     "metadata": {
      "tags": []
     },
     "output_type": "display_data"
    },
    {
     "data": {
      "image/png": "[encoded data removed]",
      "text/plain": [
       "<Figure size 432x288 with 1 Axes>"
      ]
     },
     "metadata": {
      "tags": []
     },
     "output_type": "display_data"
    }
   ],
   "source": [
    "# One hidden layer with ReLu activation, 48 nodes. L2 regularization with coeficient 0.0001 and doprout with rate 0.2 at the hidden layer.\n",
    "\n",
    "value = 0.0001\n",
    "dropout = 0.2\n",
    "(train_img, train_label), (test_img, test_label) = fashion_mnist.load_data()\n",
    "pixels = 28 * 28 \n",
    "train_img = train_img.reshape( (60000, pixels) ).astype(np.float32) / 255.0\n",
    "test_img = test_img.reshape( (10000, pixels) ).astype(np.float32)  / 255.0\n",
    "inp = Input(shape=(pixels,), name='images')\n",
    "z = Dense(48, activation='relu', kernel_regularizer=regularizers.l2(value), bias_regularizer=regularizers.l2(value), name='hidden')(inp)\n",
    "z = Dropout(dropout)(z)\n",
    "z = Dense(10, activation='softmax', kernel_regularizer=regularizers.l2(value), bias_regularizer=regularizers.l2(value), name='output')(z)\n",
    "\n",
    "our_first_model = Model(inputs=inp, outputs=z)\n",
    "our_first_model.summary()\n",
    "plot_model(our_first_model, to_file='fmnist_trained_2_q3.png', show_shapes=True, show_layer_names=True)\n",
    "our_first_model.compile(optimizer='adam', loss=SparseCategoricalCrossentropy(), metrics=['accuracy'])\n",
    "results = our_first_model.fit(train_img,  train_label, batch_size=1000, epochs=40, validation_split=0.1)\n",
    "our_first_model.save('fmnist_trained_2_q3.hdf5')\n",
    "\n",
    "trained_parameters = our_first_model.get_layer('hidden').get_weights()\n",
    "weights_hidden1 = trained_parameters[0]\n",
    "trained_parameters1 = our_first_model.get_layer('output').get_weights()\n",
    "weights_output1 = trained_parameters1[0]\n",
    "\n",
    "loss = results.history['loss']\n",
    "val_loss = results.history['val_loss']\n",
    "acc = results.history['acc']\n",
    "val_acc = results.history['val_acc']\n",
    "epochs = np.arange(len(loss))\n",
    "\n",
    "data = load_model('fmnist_trained.hdf5')\n",
    "dec = []\n",
    "for i in range(len(test_img)):\n",
    "  pred = data.predict(test_img[i].reshape(1,pixels))\n",
    "  num = 10\n",
    "  pred = pred.reshape(10)\n",
    "  dec.append(pred)\n",
    "  class_decision = np.argmax(pred)\n",
    "dec = np.array(dec)\n",
    "\n",
    "cm = np.dot(dec.T,dec)\n",
    "s2 = np.reshape(weights_hidden1,-1)\n",
    "\n",
    "fig = plt.figure()\n",
    "plt.hist(s2, bins = 50, color='green', label = 'hidden weights')\n",
    "plt.grid(True)\n",
    "plt.legend()\n",
    "axes = plt.gca()\n",
    "\n",
    "s3 = np.reshape(weights_output1,-1)\n",
    "fig = plt.figure()\n",
    "plt.hist(s3, bins = 50, color='green', label = 'output weights')\n",
    "plt.grid(True)\n",
    "plt.legend()\n",
    "axes = plt.gca()"
   ]
  },
  {
   "cell_type": "markdown",
   "metadata": {
    "colab_type": "text",
    "id": "yMbmF4jWdCpo"
   },
   "source": [
    " \n",
    "*   From the above figure we can see that the weights have higher variance in the first model than the second model. Therefore L2 regularization has reduced the weights.\n",
    "*  Also we can see that the model with no regularizers and dropout layer has the weight\n",
    "distributed.\n",
    "\n"
   ]
  },
  {
   "cell_type": "markdown",
   "metadata": {
    "colab_type": "text",
    "id": "HoUF08IZJrcu"
   },
   "source": [
    "# MLP for the Human/Machine Binary Data\n"
   ]
  },
  {
   "cell_type": "code",
   "execution_count": null,
   "metadata": {
    "colab": {
     "base_uri": "https://localhost:8080/",
     "height": 1000
    },
    "colab_type": "code",
    "id": "r6Fg169cJYB6",
    "outputId": "d437ed1e-a087-4f89-e37a-525e273dff77"
   },
   "outputs": [
    {
     "name": "stdout",
     "output_type": "stream",
     "text": [
      "Train on 6680 samples, validate on 1670 samples\n",
      "Epoch 1/40\n",
      "6680/6680 [==============================] - 3s 378us/sample - loss: 0.7171 - acc: 0.5175 - val_loss: 0.7008 - val_acc: 0.5228\n",
      "Epoch 2/40\n",
      "6680/6680 [==============================] - 1s 152us/sample - loss: 0.6832 - acc: 0.5558 - val_loss: 0.6865 - val_acc: 0.5365\n",
      "Epoch 3/40\n",
      "6680/6680 [==============================] - 1s 160us/sample - loss: 0.6709 - acc: 0.5711 - val_loss: 0.6810 - val_acc: 0.5569\n",
      "Epoch 4/40\n",
      "6680/6680 [==============================] - 1s 159us/sample - loss: 0.6638 - acc: 0.5907 - val_loss: 0.6785 - val_acc: 0.5527\n",
      "Epoch 5/40\n",
      "6680/6680 [==============================] - 1s 160us/sample - loss: 0.6575 - acc: 0.5961 - val_loss: 0.6740 - val_acc: 0.5527\n",
      "Epoch 6/40\n",
      "6680/6680 [==============================] - 1s 168us/sample - loss: 0.6524 - acc: 0.6076 - val_loss: 0.6731 - val_acc: 0.5605\n",
      "Epoch 7/40\n",
      "6680/6680 [==============================] - 1s 165us/sample - loss: 0.6484 - acc: 0.6120 - val_loss: 0.6729 - val_acc: 0.5635\n",
      "Epoch 8/40\n",
      "6680/6680 [==============================] - 1s 161us/sample - loss: 0.6449 - acc: 0.6189 - val_loss: 0.6711 - val_acc: 0.5766\n",
      "Epoch 9/40\n",
      "6680/6680 [==============================] - 1s 163us/sample - loss: 0.6415 - acc: 0.6214 - val_loss: 0.6714 - val_acc: 0.5701\n",
      "Epoch 10/40\n",
      "6680/6680 [==============================] - 1s 166us/sample - loss: 0.6394 - acc: 0.6238 - val_loss: 0.6731 - val_acc: 0.5707\n",
      "Epoch 11/40\n",
      "6680/6680 [==============================] - 1s 171us/sample - loss: 0.6373 - acc: 0.6199 - val_loss: 0.6757 - val_acc: 0.5796\n",
      "Epoch 12/40\n",
      "6680/6680 [==============================] - 1s 162us/sample - loss: 0.6353 - acc: 0.6293 - val_loss: 0.6743 - val_acc: 0.5790\n",
      "Epoch 13/40\n",
      "6680/6680 [==============================] - 1s 159us/sample - loss: 0.6337 - acc: 0.6308 - val_loss: 0.6739 - val_acc: 0.5754\n",
      "Epoch 14/40\n",
      "6680/6680 [==============================] - 1s 160us/sample - loss: 0.6324 - acc: 0.6338 - val_loss: 0.6742 - val_acc: 0.5731\n",
      "Epoch 15/40\n",
      "6680/6680 [==============================] - 1s 168us/sample - loss: 0.6313 - acc: 0.6328 - val_loss: 0.6735 - val_acc: 0.5754\n",
      "Epoch 16/40\n",
      "6680/6680 [==============================] - 1s 160us/sample - loss: 0.6299 - acc: 0.6322 - val_loss: 0.6775 - val_acc: 0.5760\n",
      "Epoch 17/40\n",
      "6680/6680 [==============================] - 1s 163us/sample - loss: 0.6288 - acc: 0.6352 - val_loss: 0.6779 - val_acc: 0.5701\n",
      "Epoch 18/40\n",
      "6680/6680 [==============================] - 1s 164us/sample - loss: 0.6283 - acc: 0.6334 - val_loss: 0.6723 - val_acc: 0.5749\n",
      "Epoch 19/40\n",
      "6680/6680 [==============================] - 1s 159us/sample - loss: 0.6274 - acc: 0.6373 - val_loss: 0.6732 - val_acc: 0.5701\n",
      "Epoch 20/40\n",
      "6680/6680 [==============================] - 1s 174us/sample - loss: 0.6265 - acc: 0.6323 - val_loss: 0.6735 - val_acc: 0.5790\n",
      "Epoch 21/40\n",
      "6680/6680 [==============================] - 1s 176us/sample - loss: 0.6255 - acc: 0.6370 - val_loss: 0.6743 - val_acc: 0.5784\n",
      "Epoch 22/40\n",
      "6680/6680 [==============================] - 1s 162us/sample - loss: 0.6248 - acc: 0.6415 - val_loss: 0.6758 - val_acc: 0.5778\n",
      "Epoch 23/40\n",
      "6680/6680 [==============================] - 1s 152us/sample - loss: 0.6239 - acc: 0.6424 - val_loss: 0.6774 - val_acc: 0.5760\n",
      "Epoch 24/40\n",
      "6680/6680 [==============================] - 1s 159us/sample - loss: 0.6235 - acc: 0.6407 - val_loss: 0.6722 - val_acc: 0.5790\n",
      "Epoch 25/40\n",
      "6680/6680 [==============================] - 1s 168us/sample - loss: 0.6230 - acc: 0.6422 - val_loss: 0.6736 - val_acc: 0.5820\n",
      "Epoch 26/40\n",
      "6680/6680 [==============================] - 1s 161us/sample - loss: 0.6222 - acc: 0.6461 - val_loss: 0.6718 - val_acc: 0.5808\n",
      "Epoch 27/40\n",
      "6680/6680 [==============================] - 1s 166us/sample - loss: 0.6215 - acc: 0.6457 - val_loss: 0.6741 - val_acc: 0.5850\n",
      "Epoch 28/40\n",
      "6680/6680 [==============================] - 1s 154us/sample - loss: 0.6207 - acc: 0.6458 - val_loss: 0.6736 - val_acc: 0.5760\n",
      "Epoch 29/40\n",
      "6680/6680 [==============================] - 1s 168us/sample - loss: 0.6203 - acc: 0.6484 - val_loss: 0.6766 - val_acc: 0.5737\n",
      "Epoch 30/40\n",
      "6680/6680 [==============================] - 1s 167us/sample - loss: 0.6194 - acc: 0.6449 - val_loss: 0.6743 - val_acc: 0.5749\n",
      "Epoch 31/40\n",
      "6680/6680 [==============================] - 1s 165us/sample - loss: 0.6190 - acc: 0.6449 - val_loss: 0.6749 - val_acc: 0.5886\n",
      "Epoch 32/40\n",
      "6680/6680 [==============================] - 1s 173us/sample - loss: 0.6179 - acc: 0.6457 - val_loss: 0.6728 - val_acc: 0.5784\n",
      "Epoch 33/40\n",
      "6680/6680 [==============================] - 1s 170us/sample - loss: 0.6173 - acc: 0.6501 - val_loss: 0.6726 - val_acc: 0.5796\n",
      "Epoch 34/40\n",
      "6680/6680 [==============================] - 1s 175us/sample - loss: 0.6167 - acc: 0.6458 - val_loss: 0.6746 - val_acc: 0.5743\n",
      "Epoch 35/40\n",
      "6680/6680 [==============================] - 1s 172us/sample - loss: 0.6160 - acc: 0.6488 - val_loss: 0.6742 - val_acc: 0.5784\n",
      "Epoch 36/40\n",
      "6680/6680 [==============================] - 1s 173us/sample - loss: 0.6157 - acc: 0.6551 - val_loss: 0.6734 - val_acc: 0.5844\n",
      "Epoch 37/40\n",
      "6680/6680 [==============================] - 1s 168us/sample - loss: 0.6153 - acc: 0.6490 - val_loss: 0.6703 - val_acc: 0.5874\n",
      "Epoch 38/40\n",
      "6680/6680 [==============================] - 1s 171us/sample - loss: 0.6143 - acc: 0.6528 - val_loss: 0.6709 - val_acc: 0.5862\n",
      "Epoch 39/40\n",
      "6680/6680 [==============================] - 1s 180us/sample - loss: 0.6135 - acc: 0.6515 - val_loss: 0.6761 - val_acc: 0.5790\n",
      "Epoch 40/40\n",
      "6680/6680 [==============================] - 1s 188us/sample - loss: 0.6133 - acc: 0.6512 - val_loss: 0.6744 - val_acc: 0.5826\n",
      "weight matrix is \n",
      " [[-2.73445934e-01  1.56373084e-01 -3.47805291e-01  2.09480107e-01\n",
      "   2.89651334e-01 -2.51360815e-02 -4.85191382e-02 -1.47969946e-01\n",
      "   2.14005366e-01  1.90811872e-01  3.46232690e-02 -1.30367726e-01\n",
      "   2.19414398e-01 -4.91257152e-03  7.29743205e-03  2.25062594e-01\n",
      "   3.69237781e-01  1.64351493e-01  2.76469231e-01 -6.37032211e-01]\n",
      " [ 1.33205786e-01 -2.42980421e-01 -6.04732484e-02  1.29769981e-01\n",
      "   2.26145521e-01 -2.10164070e-01  1.10306278e-01  3.76870155e-01\n",
      "  -5.08586243e-02  5.71912766e-01 -4.13482994e-01  2.88805813e-01\n",
      "  -1.61617659e-02 -1.23389259e-01  2.56796151e-01  2.26426244e-01\n",
      "  -1.67119920e-01 -1.57490879e-01  6.58025667e-02 -2.64734805e-01]\n",
      " [ 5.02315499e-02 -4.23295647e-01 -2.50507653e-01  3.40103924e-01\n",
      "  -1.50874024e-02 -2.58251846e-01  1.98711887e-01  7.02239200e-02\n",
      "   1.99862599e-01  3.44845429e-02  2.61185050e-01 -2.95339555e-01\n",
      "  -7.39776075e-01  1.31880969e-01 -1.58568621e-01  3.39388475e-02\n",
      "  -3.56522761e-02 -2.85865873e-01 -1.24953836e-02 -2.64691055e-01]\n",
      " [ 3.64248663e-01  5.83302416e-02  3.91958654e-01  3.00763369e-01\n",
      "   2.89943427e-01  4.64274026e-02  4.10721749e-01  9.49363708e-02\n",
      "  -7.75683746e-02 -3.85634065e-01 -1.76852867e-01 -8.04761890e-03\n",
      "  -3.94712031e-01  3.95589247e-02 -9.40063968e-02  3.58033687e-01\n",
      "   2.98675895e-01  3.42784375e-01  4.15501326e-01  1.02935649e-01]\n",
      " [ 8.21455568e-02 -2.09150165e-01  2.54568368e-01  4.34959054e-01\n",
      "  -9.68188420e-02  2.57017016e-01  3.68750691e-01 -1.54852763e-01\n",
      "   3.17121297e-01  1.87009335e-01 -4.50611770e-01  1.11645252e-01\n",
      "   4.44845557e-02  1.71828806e-01  2.49397129e-01  3.66617620e-01\n",
      "  -2.15590671e-01 -5.49782515e-01  2.26886004e-01 -2.35031173e-02]\n",
      " [-5.91498554e-01 -9.54072550e-02 -4.39656973e-02  6.26284182e-01\n",
      "   3.48298401e-01 -8.90901983e-02 -1.63474143e-01  4.49156493e-01\n",
      "   6.22861028e-01 -7.42157921e-02  1.89385906e-01 -3.01528037e-01\n",
      "   5.34129381e-01 -1.59960210e-01  2.88735062e-01 -4.54348017e-04\n",
      "   1.57704741e-01  4.96888578e-01 -5.29381745e-02 -5.20941675e-01]\n",
      " [-4.24817860e-01 -4.87027019e-01 -3.07958871e-01  2.13986859e-01\n",
      "   2.90102512e-01 -1.78310677e-01 -2.17320547e-01 -2.86034316e-01\n",
      "   6.28497660e-01 -3.38969827e-01 -5.00922322e-01 -2.13079244e-01\n",
      "   2.14144513e-01 -3.30637723e-01 -5.59938625e-02 -1.97281048e-01\n",
      "   6.16663814e-01 -3.27595443e-01 -1.77946657e-01  5.15252165e-02]\n",
      " [ 1.96700960e-01 -3.38047147e-01 -2.10504904e-01  3.49091381e-01\n",
      "  -8.14792234e-03  3.80140722e-01  3.83801907e-01  2.87536919e-01\n",
      "  -3.68414760e-01 -2.40353733e-01 -3.66714060e-01  8.86072870e-03\n",
      "  -3.14455807e-01 -2.28233457e-01  5.63967228e-01 -7.36144483e-02\n",
      "  -5.32528818e-01  2.88161039e-02  4.60052602e-02  3.32922757e-01]\n",
      " [ 8.08270425e-02 -5.22910710e-03 -5.98975658e-01 -1.22740507e-01\n",
      "  -3.19310129e-01 -6.00887872e-02  2.22514018e-01  2.04776213e-01\n",
      "   2.55797803e-01  1.72754362e-01 -1.67397618e-01  5.81019104e-01\n",
      "   1.43770859e-01 -2.20995471e-01  2.97124594e-01  3.74513239e-01\n",
      "  -3.19124103e-01 -1.57043591e-01 -5.17137289e-01  3.11036175e-03]\n",
      " [ 3.37791711e-01 -7.31874350e-03 -2.63975263e-01  2.39455312e-01\n",
      "   1.66000798e-01 -4.88733172e-01  3.55098620e-02  2.18799993e-01\n",
      "  -1.50487840e-01 -1.81169435e-01 -4.44992453e-01  2.42968649e-01\n",
      "   2.53455807e-02 -2.06101716e-01  4.04650480e-01 -1.02747560e-01\n",
      "   3.82154882e-01  7.49415718e-04 -3.57990354e-01 -1.67925179e-01]\n",
      " [-6.40168488e-02 -4.29168761e-01 -4.13184553e-01  1.24044538e-01\n",
      "  -3.70688528e-01  5.30214727e-01  4.13484201e-02 -1.75735801e-01\n",
      "   1.17548302e-01 -4.97404002e-02 -9.53021646e-02 -3.36160928e-01\n",
      "  -5.93048930e-01 -1.05737329e-01 -2.44689763e-01 -3.14458936e-01\n",
      "  -3.80853146e-01 -6.29500225e-02 -8.74476135e-02  1.58788741e-01]\n",
      " [-1.80696890e-01 -3.09559852e-01  4.96809214e-01 -2.15932608e-01\n",
      "  -1.58506945e-01  4.46530879e-01 -1.07670821e-01 -4.62026559e-02\n",
      "  -1.91692397e-01  4.38972935e-02 -1.06603295e-01  7.14625895e-01\n",
      "  -1.53961629e-01 -6.33561909e-02  3.81549776e-01 -4.61977512e-01\n",
      "  -8.26232659e-04 -3.52369547e-01 -1.58854187e-01 -1.42449677e-01]\n",
      " [ 2.64217854e-01  2.54912470e-02 -1.77416369e-01 -3.36663783e-01\n",
      "  -4.78564203e-01 -5.73267698e-01  5.09954058e-02  4.22750622e-01\n",
      "   2.37102792e-01  4.69990134e-01  8.91850423e-03  1.17107280e-01\n",
      "   5.04946291e-01 -2.32889771e-01 -1.14657007e-01 -8.14744830e-02\n",
      "  -5.04938653e-03 -2.68253297e-01 -2.52280354e-01  3.13115507e-01]\n",
      " [ 1.61559150e-01  8.12544882e-01  5.12941703e-02 -5.05936384e-01\n",
      "  -2.17048433e-02 -2.60536045e-01  9.41944271e-02 -5.49439013e-01\n",
      "  -1.44671977e-01 -4.46077734e-01  1.56575531e-01 -4.02575999e-01\n",
      "   1.23871557e-01  2.06985623e-01 -1.07686348e-01  5.36899269e-01\n",
      "  -3.65819372e-02 -4.66410697e-01  4.41196859e-01 -4.76841271e-01]\n",
      " [-9.35722589e-02 -4.24886882e-01 -5.28747700e-02 -5.68908274e-01\n",
      "  -4.90435064e-02  6.76995993e-01  2.53862977e-01  2.23059848e-01\n",
      "   1.93442628e-01  3.18464302e-02  1.13306418e-01 -2.72185117e-01\n",
      "  -1.17155693e-01  1.06437966e-01 -4.60540861e-01  1.70860365e-01\n",
      "   1.16850652e-01  2.45060682e-01 -5.28260469e-02  2.25240842e-01]\n",
      " [-1.28032550e-01  2.48712391e-01  3.80325615e-01 -4.90606666e-01\n",
      "  -1.37978077e-01 -5.27111828e-01 -6.15395546e-01 -2.45474741e-01\n",
      "  -2.57866502e-01 -1.84781224e-01  2.12437361e-01  4.53154415e-01\n",
      "  -1.21363319e-01 -5.43360710e-02  1.17684878e-01 -5.39473176e-01\n",
      "   7.53643140e-02 -5.08174121e-01  1.44544497e-01 -1.95002303e-01]\n",
      " [-2.16531619e-01 -2.76916385e-01  5.54333106e-02  4.42189947e-02\n",
      "   1.38726339e-01 -8.48782361e-02  3.16646487e-01 -2.08959073e-01\n",
      "   1.29162371e-01  3.11372459e-01  8.93145278e-02  2.09619701e-01\n",
      "   6.04263023e-02 -3.39706987e-01 -1.02857463e-02  1.32003389e-02\n",
      "   7.33042322e-03 -2.82268167e-01  3.90035212e-01 -8.04023966e-02]\n",
      " [-6.73624426e-02 -3.69665980e-01 -3.87844115e-01 -3.73388469e-01\n",
      "  -6.96177244e-01  3.35352898e-01 -3.00119132e-01 -3.96696270e-01\n",
      "  -1.46051660e-01 -4.34146345e-01  1.68657884e-01 -5.27826011e-01\n",
      "  -1.24099348e-02  3.91736746e-01  2.60909289e-01 -2.10078359e-01\n",
      "  -2.47310475e-01 -5.11086844e-02 -3.67624909e-01  1.33705035e-01]\n",
      " [ 1.37158716e-02 -1.68001324e-01  7.73385763e-02 -1.73146531e-01\n",
      "   2.83242911e-01  6.51574209e-02  2.27374688e-01  2.54004717e-01\n",
      "   4.74242866e-02  2.06271723e-01  2.20231161e-01 -2.83705890e-01\n",
      "  -1.78377643e-01 -1.92446746e-02 -4.31586444e-01  3.95668149e-01\n",
      "  -4.00002629e-01  2.15826407e-02 -8.62888843e-02 -4.97070216e-02]\n",
      " [-2.73818076e-01  1.37168216e-02 -2.26896390e-01  5.32996282e-02\n",
      "  -6.76625222e-02 -3.45712721e-01 -1.23544559e-01 -5.21027558e-02\n",
      "   1.07527830e-01 -1.57987922e-01 -1.06207570e-02  1.59973130e-01\n",
      "  -1.34049237e-01  3.58732194e-01  3.34669590e-01  5.13406634e-01\n",
      "   3.98680508e-01  1.89826012e-01 -1.68987826e-01 -2.27649972e-01]]\n"
     ]
    },
    {
     "data": {
      "text/plain": [
       "<matplotlib.image.AxesImage at 0x7f4344da7908>"
      ]
     },
     "execution_count": 34,
     "metadata": {
      "tags": []
     },
     "output_type": "execute_result"
    },
    {
     "data": {
      "image/png": "[encoded data removed]",
      "text/plain": [
       "<Figure size 432x288 with 1 Axes>"
      ]
     },
     "metadata": {
      "tags": []
     },
     "output_type": "display_data"
    },
    {
     "data": {
      "image/png": "[encoded data removed]",
      "text/plain": [
       "<Figure size 288x288 with 1 Axes>"
      ]
     },
     "metadata": {
      "tags": []
     },
     "output_type": "display_data"
    }
   ],
   "source": [
    "# MLP for the Human/Machine Binary Data\n",
    "\n",
    "import h5py\n",
    "import numpy as np\n",
    "file_bin = h5py.File('binary_random_sp2020.hdf5','r')\n",
    "\n",
    "human = file_bin['human']\n",
    "machine = file_bin['machine']\n",
    "human = np.array(human)\n",
    "machine = np.array(machine)\n",
    "\n",
    "train_set = np.append(human,machine,axis=0)\n",
    "k = np.arange(8350)\n",
    "np.random.shuffle(k)\n",
    "train_l_human = np.ones(4175)\n",
    "train_l_machine = np.zeros(4175)\n",
    "train_label = np.array(np.append(train_l_human,train_l_machine))\n",
    "train_set = np.array(train_set[k])\n",
    "train_label = np.array(train_label[k])\n",
    "\n",
    "pixels = 20\n",
    "inp = keras.layers.Input(shape=(pixels,), name='images')\n",
    "z = keras.layers.Dense(20, activation='relu', name='hidden')(inp)\n",
    "z = keras.layers.Dense(1, activation='sigmoid', name='output')(z)\n",
    "our_first_model = keras.Model(inputs=inp, outputs=z)\n",
    "our_first_model.compile(optimizer='adam', loss='binary_crossentropy', metrics=['accuracy'])\n",
    "results = our_first_model.fit(train_set,  train_label, batch_size=16, epochs=40, validation_split=0.2)\n",
    "our_first_model.save('Akshay_trained.hdf5')\n",
    "trained_parameters2 = our_first_model.get_layer('hidden').get_weights()\n",
    "weights_hidden_20 = trained_parameters2[0]\n",
    "\n",
    "loss = results.history['loss']\n",
    "val_loss = results.history['val_loss']\n",
    "acc = results.history['acc']\n",
    "val_acc = results.history['val_acc']\n",
    "epochs = np.arange(len(loss))\n",
    "data = load_model('Akshay_trained.hdf5')\n",
    "\n",
    "plt.figure()\n",
    "plt.plot(epochs, acc, label='acc')\n",
    "plt.plot(epochs, val_acc, label='val_acc')\n",
    "plt.xlabel('epochs')\n",
    "plt.ylabel('Accuracy')\n",
    "plt.title(f'Accuracy with no Regularizer and Dropout')\n",
    "plt.legend()\n",
    "print(\"weight matrix is \\n\", weights_hidden_20)\n",
    "plt.matshow(np.dot(weights_hidden_20,weights_hidden_20.T))"
   ]
  },
  {
   "cell_type": "markdown",
   "metadata": {
    "colab_type": "text",
    "id": "cp8XIAPNeLBu"
   },
   "source": [
    "As we can see from the coorelation matrix, the weights are uncorrelated. So we can reduce the feature size by utilizing only a few of the weights to model it."
   ]
  }
 ],
 "metadata": {
  "colab": {
   "collapsed_sections": [],
   "name": "HW3_1",
   "provenance": []
  },
  "kernelspec": {
   "display_name": "Python 3",
   "language": "python",
   "name": "python3"
  },
  "language_info": {
   "codemirror_mode": {
    "name": "ipython",
    "version": 3
   },
   "file_extension": ".py",
   "mimetype": "text/x-python",
   "name": "python",
   "nbconvert_exporter": "python",
   "pygments_lexer": "ipython3",
   "version": "3.7.7"
  }
 },
 "nbformat": 4,
 "nbformat_minor": 4
}
